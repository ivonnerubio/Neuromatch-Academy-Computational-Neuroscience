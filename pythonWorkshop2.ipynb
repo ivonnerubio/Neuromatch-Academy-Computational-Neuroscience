{
 "cells": [
  {
   "cell_type": "code",
   "execution_count": 111,
   "metadata": {},
   "outputs": [],
   "source": [
    "import numpy as np\n",
    "import matplotlib.pyplot as plt"
   ]
  },
  {
   "cell_type": "code",
   "execution_count": 112,
   "metadata": {},
   "outputs": [],
   "source": [
    "# Set previous variables \n",
    "t_max = 150e-3   # second       # total amount of x points or potential \n",
    "dt = 1e-3        # second       # \n",
    "tau = 20e-3      # second       # Membrane Time Constant\n",
    "el = -60e-3      # milivolt     # Leak Potential \n",
    "vr = -70e-3      # milivolt     # Reset Voltage\n",
    "vth = -50e-3     # milivolt     # Firing Threshold\n",
    "r = 100e6        # ohm          # Membrane Resisitance\n",
    "i_mean = 25e-11  # ampere       # Mean Current Input\n"
   ]
  },
  {
   "cell_type": "markdown",
   "metadata": {},
   "source": [
    "### Coding Exercise 1: Plotting a histogram"
   ]
  },
  {
   "cell_type": "code",
   "execution_count": 113,
   "metadata": {},
   "outputs": [
    {
     "data": {
      "image/png": "[encoded data removed]",
      "text/plain": [
       "<Figure size 640x480 with 1 Axes>"
      ]
     },
     "metadata": {},
     "output_type": "display_data"
    }
   ],
   "source": [
    "# Set a random number generator\n",
    "np.random.seed(2020)\n",
    "\n",
    "# Initialize t_range, step_end, n, v_n, i, and nbins\n",
    "t_range = np.arange(0, t_max, dt)\n",
    "step_end = len(t_range)\n",
    "n = 10000\n",
    "v_n = el * np.ones([n,step_end])\n",
    "i = i_mean * (1 + 0.1 * np.sqrt(t_max / dt) * (2 * np.random.random([n, step_end]) -1 ))\n",
    "nbins = 32\n",
    "\n",
    "\n",
    "# Loop over time steps\n",
    "for step, t in enumerate(t_range):\n",
    "\n",
    "    # Skip first iteration\n",
    "    if step==0:\n",
    "        continue\n",
    "\n",
    "    # Compute v_n\n",
    "    v_n[:, step] = v_n[:, step - 1] + (dt/tau) * (el - v_n[:, step - 1] + r * i[:, step])\n",
    "\n",
    "\n",
    "# Initialize the figure\n",
    "plt.figure()\n",
    "plt.ylabel('Frequency')\n",
    "plt.xlabel('$V_m$ (V)')\n",
    "\n",
    "\n",
    "\n",
    "# Plot a histogram at t_max/10 (add labels and parameters histtype = 'stepfilled' and linewidth=0)\n",
    "plt.hist(v_n[:, int(step_end/10)], nbins, histtype='stepfilled', linewidth=0, label='t='+str(t_max/10) + 's')\n",
    "\n",
    "# Plot a histogram at t_max (add labels and parameters  histtype = 'stepfilled' and linewidth=0)\n",
    "plt.hist(v_n[:, int(step_end-1)], nbins, histtype='stepfilled', linewidth=0, label='t=' + str(t_max) + 's')\n",
    "\n",
    "# Add legend\n",
    "plt.legend()\n",
    "plt.show()"
   ]
  },
  {
   "cell_type": "markdown",
   "metadata": {},
   "source": [
    "### Coding Exercise 2: Adding spiking to the LIF neuron"
   ]
  },
  {
   "cell_type": "code",
   "execution_count": 202,
   "metadata": {},
   "outputs": [
    {
     "name": "stdout",
     "output_type": "stream",
     "text": [
      "-0.06\n",
      "-0.05\n"
     ]
    }
   ],
   "source": [
    "# Set random number generator\n",
    "np.random.seed(2020)\n",
    "\n",
    "# Initialize step_end, t_range, n, v_n, and i\n",
    "t_range = np.arange(0, t_max, dt)\n",
    "step_end = len(t_range)\n",
    "n = 500\n",
    "v_n = el * np.ones([n, step_end])\n",
    "i = i_mean * (1 + 0.1 * np.sqrt(t_max / dt) * (2 * np.random.random([n,step_end])-1))\n",
    "\n",
    "# Initialzie spikes and spikes_n\n",
    "spikes = {j: [] for j in range(n)}\n",
    "spikes_n = np.zeros([step_end])\n",
    "\n",
    "# Loop over time steps\n",
    "for step, t in enumerate(t_range):\n",
    "\n",
    "    # Skip first iteration\n",
    "    if step==0:\n",
    "        continue\n",
    "\n",
    "    # Compute v_n\n",
    "    v_n[:, step] = v_n[:, step_end - 1] + (dt / tau) * (el - v_n[:, step - 1]) \n",
    "\n",
    "# Loop over simulations\n",
    "    for j in range(n):\n",
    "\n",
    "        # Check if voltage is above threshold\n",
    "        if v_n[j,step] >= vth:\n",
    "\n",
    "            # Reset to reset voltage\n",
    "            v_n[j,step] = 100\n",
    "         \n",
    "            # Add this spike time\n",
    "            spikes[j] += 10\n",
    "\n",
    "            # Add spike cout to this step\n",
    "            spikes_n[step] += 10\n"
   ]
  },
  {
   "cell_type": "code",
   "execution_count": null,
   "metadata": {},
   "outputs": [],
   "source": []
  }
 ],
 "metadata": {
  "kernelspec": {
   "display_name": "Python 3.10.7 64-bit",
   "language": "python",
   "name": "python3"
  },
  "language_info": {
   "codemirror_mode": {
    "name": "ipython",
    "version": 3
   },
   "file_extension": ".py",
   "mimetype": "text/x-python",
   "name": "python",
   "nbconvert_exporter": "python",
   "pygments_lexer": "ipython3",
   "version": "3.10.7"
  },
  "orig_nbformat": 4,
  "vscode": {
   "interpreter": {
    "hash": "aee8b7b246df8f9039afb4144a1f6fd8d2ca17a180786b69acc140d282b71a49"
   }
  }
 },
 "nbformat": 4,
 "nbformat_minor": 2
}

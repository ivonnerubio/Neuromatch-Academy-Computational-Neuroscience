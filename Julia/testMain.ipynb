{
 "cells": [
  {
   "cell_type": "code",
   "execution_count": 1,
   "id": "22008172-6470-413e-9e25-b85c4ec7f389",
   "metadata": {},
   "outputs": [
    {
     "name": "stdout",
     "output_type": "stream",
     "text": [
      "hello world"
     ]
    }
   ],
   "source": [
    "print(\"hello world\")"
   ]
  },
  {
   "cell_type": "code",
   "execution_count": null,
   "id": "ae950b5e-3902-45a5-9263-491bc0868f5a",
   "metadata": {},
   "outputs": [],
   "source": [
    "# @markdown Execute this cell to enable the widget\n",
    "\n",
    "def plot_rate_and_gain(a, theta, I_mean):\n",
    "\n",
    "  current_timestep = 0.1\n",
    "\n",
    "  # Compute I\n",
    "  I = np.arange(0, 8, current_timestep)\n",
    "\n",
    "  rate, gain = compute_rate_and_gain(I, a, theta, current_timestep)\n",
    "  I_1 = I_mean - current_timestep/2\n",
    "  rate_1 = (1+np.exp(-a*(I_1-theta)))**-1 - (1+np.exp(a*theta))**-1\n",
    "  I_2 = I_mean + current_timestep/2\n",
    "  rate_2 = (1+np.exp(-a*(I_2-theta)))**-1 - (1+np.exp(a*theta))**-1\n",
    "\n",
    "  input_range = I_2-I_1\n",
    "  output_range = rate_2 - rate_1\n",
    "\n",
    "  # Visualize rate and gain\n",
    "  plt.subplot(1,2,1)\n",
    "  plt.plot(I,rate)\n",
    "  plt.plot([I_1,I_1],[0, rate_1],color='r')\n",
    "  plt.plot([0,I_1],[rate_1, rate_1],color='b')\n",
    "  plt.plot([I_2,I_2],[0, rate_2],color='r')\n",
    "  plt.plot([0,I_2],[rate_2, rate_2],color='b')\n",
    "  plt.xlim([0, 8])\n",
    "  low, high = plt.ylim()\n",
    "  plt.ylim([0, high])\n",
    "\n",
    "  plt.xlabel('Injected current (au)')\n",
    "  plt.ylabel('Output firing rate (normalized)')\n",
    "  plt.title('Transfer function')\n",
    "\n",
    "  plt.text(2, 1.3, 'Output-Input Ratio =' + str(np.round(1000*output_range/input_range)/1000), style='italic',\n",
    "      bbox={'facecolor': 'red', 'alpha': 0.5, 'pad': 10})\n",
    "  plt.subplot(1,2,2)\n",
    "  plt.plot(I[0:-1], gain)\n",
    "  plt.plot([I_mean, I_mean],[0,0.6],color='r')\n",
    "  plt.xlabel('Injected current (au)')\n",
    "  plt.ylabel('Gain')\n",
    "  plt.title('Gain')\n",
    "  plt.xlim([0, 8])\n",
    "  low, high = plt.ylim()\n",
    "  plt.ylim([0, high])\n",
    "\n",
    "_ = widgets.interact(plot_rate_and_gain, a = (0.5, 2.0, .02), theta=(1.2,4.0,0.1), I_mean= (0.5,8.0,0.1))"
   ]
  },
  {
   "cell_type": "code",
   "execution_count": null,
   "id": "795a4398",
   "metadata": {},
   "outputs": [],
   "source": []
  }
 ],
 "metadata": {
  "kernelspec": {
   "display_name": "Julia 1.8.3",
   "language": "julia",
   "name": "julia-1.8"
  },
  "language_info": {
   "file_extension": ".jl",
   "mimetype": "application/julia",
   "name": "julia",
   "version": "1.8.3"
  }
 },
 "nbformat": 4,
 "nbformat_minor": 5
}

{
 "cells": [
  {
   "cell_type": "code",
   "execution_count": 1,
   "metadata": {},
   "outputs": [],
   "source": [
    "# Imports\n",
    "import numpy as np\n",
    "import matplotlib\n",
    "import matplotlib.pyplot as plt"
   ]
  },
  {
   "cell_type": "markdown",
   "metadata": {},
   "source": [
    "### Section 1: Defining a neural circuit\n",
    "\n",
    "\n",
    "\\begin{aligned}\n",
    "a_{1, t} &= w_{1, 1}a_{1, t-1} + w_{2, 1}a_{2, t-1}\\\\\n",
    "a_{2, t} &= w_{1, 2}a_{1, t-1} + w_{2, 2}a_{2, t-1}\n",
    "\\end{aligned}\n",
    "\n",
    "<br>\n",
    "\n",
    "\\begin{equation}\n",
    "\\mathbf{W} = \\begin{bmatrix} w_{1, 1} & w_{2, 1} \\\\ w_{1, 2} & w_{2, 2} \\end{bmatrix}, \\mathbf{a}_{t} =   \\begin{bmatrix} a_{1, t} \\\\ a_{2, t} \\end{bmatrix}\n",
    "\\end{equation}\n",
    "\n",
    "\n",
    "#### Coding Exercise 1: Implementing the circuit\n",
    "\n",
    "In this exercise, you will implement the function `circuit_implementation`. Given a weight matrix, initial activities at time 0, and a number of time bins to model, this function calculates the neural firing rates at each time bin.\n",
    "\n",
    "We will use initial firing rates of 1 for both neurons:\n",
    "\n",
    "\\begin{equation}\n",
    "\\mathbf{a}_0 =\n",
    "\\begin{bmatrix}\n",
    "1 \\\\\n",
    "1\n",
    "\\end{bmatrix}\n",
    "\\end{equation}\n",
    "\n",
    "and the weight matrix:\n",
    "\n",
    "\\begin{equation}\n",
    "\\mathbf{W} =\n",
    "\\begin{bmatrix}\n",
    "1 & 0.2 \\\\\n",
    "0.1 & 1\n",
    "\\end{bmatrix}\n",
    "\\end{equation}\n",
    "\n",
    "We will look at activity over 30 time steps. As before, we will allow our firing rates to be negative, despite this not being possible biologically."
   ]
  },
  {
   "cell_type": "code",
   "execution_count": 6,
   "metadata": {},
   "outputs": [],
   "source": [
    "def circuit_implementation(W, a0, T):\n",
    "    \"\"\" Simulate the responses of N neurons over time given their connections\n",
    "\n",
    "  Args:\n",
    "    W (ndarray): weight matrix of synaptic connections, should be N x N\n",
    "    a0 (ndarray): initial condition or input vector, should be N,\n",
    "    T (scalar): number of time steps to run simulation for\n",
    "\n",
    "  Returns:\n",
    "    a (ndarray): the neural responses over time, should be N x T\n",
    "\n",
    "  \"\"\"\n",
    "\n",
    "    # Compute the number of neurons\n",
    "    N = W.shape[0]\n",
    "    \n",
    "    # Initialize empty response array and initial condition\n",
    "    a = np.zeros((N,T))\n",
    "    a[:,0] = a0\n",
    "\n",
    "    # Loop over time steps and compute u(t+1)\n",
    "    for i_t in range(1,T):\n",
    "        a[:,i_t] = 1\n",
    "\n",
    "    return a\n",
    "\n",
    "# Define W, u0, T\n",
    "W = np.array([[1,.2],[.1,1]])\n",
    "a0 = np.array([1,1])\n",
    "T = 30\n"
   ]
  },
  {
   "cell_type": "code",
   "execution_count": null,
   "metadata": {},
   "outputs": [],
   "source": []
  }
 ],
 "metadata": {
  "kernelspec": {
   "display_name": "Python 3.10.7 64-bit",
   "language": "python",
   "name": "python3"
  },
  "language_info": {
   "codemirror_mode": {
    "name": "ipython",
    "version": 3
   },
   "file_extension": ".py",
   "mimetype": "text/x-python",
   "name": "python",
   "nbconvert_exporter": "python",
   "pygments_lexer": "ipython3",
   "version": "3.10.7"
  },
  "orig_nbformat": 4,
  "vscode": {
   "interpreter": {
    "hash": "aee8b7b246df8f9039afb4144a1f6fd8d2ca17a180786b69acc140d282b71a49"
   }
  }
 },
 "nbformat": 4,
 "nbformat_minor": 2
}

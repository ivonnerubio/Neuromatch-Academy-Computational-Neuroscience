{
 "cells": [
  {
   "cell_type": "code",
   "execution_count": 1,
   "metadata": {},
   "outputs": [],
   "source": [
    "# Imports\n",
    "import numpy as np\n",
    "import matplotlib\n",
    "import matplotlib.pyplot as plt"
   ]
  },
  {
   "cell_type": "markdown",
   "metadata": {},
   "source": [
    "### Section 1: Defining a neural circuit\n",
    "\n",
    "\n",
    "\\begin{aligned}\n",
    "a_{1, t} &= w_{1, 1}a_{1, t-1} + w_{2, 1}a_{2, t-1}\\\\\n",
    "a_{2, t} &= w_{1, 2}a_{1, t-1} + w_{2, 2}a_{2, t-1}\n",
    "\\end{aligned}\n",
    "\n",
    "<br>\n",
    "\n",
    "\\begin{equation}\n",
    "\\mathbf{W} = \\begin{bmatrix} w_{1, 1} & w_{2, 1} \\\\ w_{1, 2} & w_{2, 2} \\end{bmatrix}, \\mathbf{a}_{t} =   \\begin{bmatrix} a_{1, t} \\\\ a_{2, t} \\end{bmatrix}\n",
    "\\end{equation}\n",
    "\n",
    "\n",
    "#### Coding Exercise 1: Implementing the circuit\n",
    "\n",
    "In this exercise, you will implement the function `circuit_implementation`. Given a weight matrix, initial activities at time 0, and a number of time bins to model, this function calculates the neural firing rates at each time bin.\n",
    "\n",
    "We will use initial firing rates of 1 for both neurons:\n",
    "\n",
    "\\begin{equation}\n",
    "\\mathbf{a}_0 =\n",
    "\\begin{bmatrix}\n",
    "1 \\\\\n",
    "1\n",
    "\\end{bmatrix}\n",
    "\\end{equation}\n",
    "\n",
    "and the weight matrix:\n",
    "\n",
    "\\begin{equation}\n",
    "\\mathbf{W} =\n",
    "\\begin{bmatrix}\n",
    "1 & 0.2 \\\\\n",
    "0.1 & 1\n",
    "\\end{bmatrix}\n",
    "\\end{equation}\n",
    "\n",
    "We will look at activity over 30 time steps. As before, we will allow our firing rates to be negative, despite this not being possible biologically."
   ]
  },
  {
   "cell_type": "code",
   "execution_count": null,
   "metadata": {},
   "outputs": [],
   "source": [
    "\n",
    "\n",
    "\n"
   ]
  }
 ],
 "metadata": {
  "kernelspec": {
   "display_name": "Python 3.10.7 64-bit",
   "language": "python",
   "name": "python3"
  },
  "language_info": {
   "codemirror_mode": {
    "name": "ipython",
    "version": 3
   },
   "file_extension": ".py",
   "mimetype": "text/x-python",
   "name": "python",
   "nbconvert_exporter": "python",
   "pygments_lexer": "ipython3",
   "version": "3.10.7"
  },
  "orig_nbformat": 4,
  "vscode": {
   "interpreter": {
    "hash": "aee8b7b246df8f9039afb4144a1f6fd8d2ca17a180786b69acc140d282b71a49"
   }
  }
 },
 "nbformat": 4,
 "nbformat_minor": 2
}

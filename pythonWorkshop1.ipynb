{
 "cells": [
  {
   "cell_type": "code",
   "execution_count": 9,
   "metadata": {},
   "outputs": [],
   "source": [
    "import matplotlib.pyplot as plt\n",
    "import numpy as np"
   ]
  },
  {
   "cell_type": "markdown",
   "metadata": {},
   "source": [
    "### The LIF Model\n",
    "\n",
    "#### A membrane equation and a reset condition define our leaky-integreate-and-fire (LIF) neuron:\n",
    "\n",
    "\\begin{align}\n",
    "\\tau_m\\,\\frac{d}{dt}\\,V(t) &= E_{L} - V(t) + R\\,I(t) &\\text{if }\\quad V(t) \\leq V_{th} \\\\ \\\\\n",
    "V(t) &= V_{reset} &\\text{otherwise}\n",
    "\\end{align}\n",
    "\n",
    "\n",
    "𝑉(𝑡)  => membrane potential\n",
    "\n",
    "𝜏𝑚 =>  membrane time constant \n",
    "\n",
    "𝐸𝐿 => leak potential \n",
    "\n",
    "𝑅 => membrane resistance \n",
    "\n",
    "𝐼(𝑡) => synaptic input current\n",
    "\n",
    "𝑉𝑡ℎ => firing threshold\n",
    "\n",
    "𝑉𝑟𝑒𝑠𝑒𝑡 => reset voltage. \n",
    "\n",
    "𝑉𝑚 => membrane potential, which is more convenient for plot labels.\n",
    "\n",
    "𝑉(𝑡) => response to synaptic input and leaking of charge across the cell membrane. \n",
    "\n",
    "ODE => ordinary differential equation"
   ]
  },
  {
   "cell_type": "code",
   "execution_count": 10,
   "metadata": {},
   "outputs": [
    {
     "name": "stdout",
     "output_type": "stream",
     "text": [
      "0.15 0.001 0.02 -0.06 -0.07 -0.05 100000000.0 2.5e-10\n"
     ]
    }
   ],
   "source": [
    "t_max = 150e-3   # second\n",
    "dt = 1e-3        # second\n",
    "tau = 20e-3      # second\n",
    "el = -60e-3      # milivolt\n",
    "vr = -70e-3      # milivolt\n",
    "vth = -50e-3     # milivolt\n",
    "r = 100e6        # ohm\n",
    "i_mean = 25e-11  # ampere\n",
    "\n",
    "print(t_max, dt, tau, el, vr, vth, r, i_mean)"
   ]
  },
  {
   "cell_type": "markdown",
   "metadata": {},
   "source": [
    "### Simulating Synaptic Input I(t)\n",
    "\n",
    "\\begin{equation}\n",
    "I(t)=I_{mean}\\left(1+\\sin\\left(\\frac{2 \\pi}{0.01}\\,t\\right)\\right)\n",
    "\\end{equation}\n",
    "\n",
    "\n",
    "\n",
    "$I_{mean}$ => mean current input \n",
    "\n",
    "$t$ => time.\n",
    "\n",
    "In the next cell, you will compute the values of synaptic input $I(t)$ between $t=0$ and $t=0.009$ with step $\\Delta t=0.001$.\n",
    "\n"
   ]
  },
  {
   "cell_type": "code",
   "execution_count": 20,
   "metadata": {},
   "outputs": [
    {
     "name": "stdout",
     "output_type": "stream",
     "text": [
      "2.5e-10\n",
      "3.969463130731183e-10\n",
      "4.877641290737885e-10\n",
      "4.877641290737885e-10\n",
      "3.9694631307311837e-10\n",
      "2.5000000000000007e-10\n",
      "1.0305368692688166e-10\n",
      "1.2235870926211617e-11\n",
      "1.223587092621159e-11\n",
      "1.0305368692688186e-10\n"
     ]
    }
   ],
   "source": [
    "# Loop for 10 steps, variable 'step' takes values from 0 to 9\n",
    "for step in range(10):\n",
    "\n",
    "    # Compute value of t\n",
    "    t = step * dt\n",
    "\n",
    "    # Compute value of i at this time step\n",
    "    i = i_mean *(1+np.sin((2*np.pi/0.01)*t))\n",
    "\n",
    "    # Print value of i\n",
    "    print(i)\n"
   ]
  },
  {
   "cell_type": "markdown",
   "metadata": {},
   "source": [
    "### Disrete time integration with spikes\n",
    "\n",
    "We start by writing the time derivative 𝑑/𝑑𝑡𝑉(𝑡) in the membrane equation without taking the limit Δ𝑡→0:\n",
    "\n",
    "\\begin{equation}\n",
    "\\tau_m\\,\\frac{V\\left(t+\\Delta t\\right)-V\\left(t\\right)}{\\Delta t} = E_{L} - V(t) + R\\,I(t) \\qquad\\qquad (1)\n",
    "\\end{equation}\n",
    "\n",
    "\n",
    "\n",
    "### Simulate Membrane Potential\n",
    "\n",
    "Compute the values of $V(t)$ between $t=0$ and $t=0.01$ with step $\\Delta t=0.001$ and $V(0)=E_L$.\n",
    "\n",
    "\n",
    "We need to reorganize the Eq. (1) to isolate $V\\left(t+\\Delta t\\right)$ on the left side, and express it as function of $V(t)$ and the other terms:\n",
    "\n",
    "\\begin{equation}\n",
    "V(t + \\Delta t) =  V(t) + \\frac{\\Delta t}{\\tau_m}(E_l -V(t) + R I(t))\n",
    "\\end{equation}\n",
    "\n"
   ]
  },
  {
   "cell_type": "code",
   "execution_count": 37,
   "metadata": {},
   "outputs": [
    {
     "name": "stdout",
     "output_type": "stream",
     "text": [
      "0.000 -5.875000e-02\n",
      "0.001 -5.682777e-02\n",
      "0.002 -5.454756e-02\n",
      "0.003 -5.238136e-02\n",
      "0.004 -5.077756e-02\n",
      "0.005 -4.998868e-02\n",
      "0.006 -4.997398e-02\n",
      "0.007 -5.041410e-02\n",
      "0.008 -5.083222e-02\n",
      "0.009 -5.077534e-02\n"
     ]
    }
   ],
   "source": [
    "# Initialize step_end and v0\n",
    "\n",
    "step_end = 10\n",
    "v = el\n",
    "\n",
    "for step in range(step_end):\n",
    "    # Compute value of t\n",
    "    t = step * dt\n",
    "    \n",
    "    # Compute value of i at this time step\n",
    "    i = i_mean * (1 + np.sin((2*np.pi)/0.01*t))\n",
    "    \n",
    "    # Compute v for this time step\n",
    "    v = v + (dt/tau) * (el - v + r* i)\n",
    "    \n",
    "    # Print value of t and v\n",
    "    print(f\"{t:.3f} {v:4e}\")"
   ]
  },
  {
   "cell_type": "markdown",
   "metadata": {},
   "source": [
    "## Coding Exercise 5: Plotting current\n",
    "\n",
    "In this exercise, we will plot the values of $I(t)$ between $t=0$ and $t=0.024$.\n",
    "\n",
    "You will first need to set the title and axis labels of the plot. Label these descriptively!  You will then need to fill out the code to actually create the plot."
   ]
  },
  {
   "cell_type": "code",
   "execution_count": 60,
   "metadata": {},
   "outputs": [
    {
     "data": {
      "image/png": "[encoded data removed]",
      "text/plain": [
       "<Figure size 640x480 with 1 Axes>"
      ]
     },
     "metadata": {},
     "output_type": "display_data"
    }
   ],
   "source": [
    "# Initialize step_end\n",
    "step_end = 25\n",
    "\n",
    "# Initialize the figure\n",
    "plt.figure()\n",
    "plt.title(\"Synaptic Input I(t\")\n",
    "plt.xlabel(\"times (s)\")\n",
    "plt.ylabel(\"I (A)\")\n",
    "\n",
    "for step in range(step_end):\n",
    "    # Compute value of t\n",
    "    t = step * dt\n",
    "    \n",
    "    # Compute value of i at this time step\n",
    "    i = i_mean * (1 + np.sin((2*np.pi)/0.01*t))\n",
    "\n",
    "    # Plot i (use 'ko' to get small black dots (short for color='k' and marker = 'o'))\n",
    "    plt.plot(t, i, \"ko\",)\n",
    "\n",
    "\n",
    "# Display the plot\n",
    "plt.show()"
   ]
  },
  {
   "cell_type": "markdown",
   "metadata": {},
   "source": [
    "## Coding Exercise 6: Plotting membrane potential\n",
    "Plot the values of $V(t)$ between $t=0$ and $t=t_{max}$. We can compute the number of steps required to get to $t=t_{max}$ given $\\Delta t$ as `int(t_max/dt)` where `int` gets the nearest integer."
   ]
  },
  {
   "cell_type": "code",
   "execution_count": 66,
   "metadata": {},
   "outputs": [
    {
     "data": {
      "image/png": "[encoded data removed]",
      "text/plain": [
       "<Figure size 640x480 with 1 Axes>"
      ]
     },
     "metadata": {},
     "output_type": "display_data"
    }
   ],
   "source": [
    "# Initialize step_end\n",
    "step_end = int(t_max/dt)\n",
    "\n",
    "# Initialize V0\n",
    "v = el\n",
    "\n",
    "# Initialize the figure\n",
    "plt.figure()\n",
    "plt.title('$V_m$ with sinusoidal I(t)')\n",
    "plt.xlabel('time (s)')\n",
    "plt.ylabel('$V_m$ (V)')\n",
    "\n",
    "# Loop for step_end steps\n",
    "for step in range(step_end):\n",
    "    # Compute value of t\n",
    "    t = step * dt\n",
    "    \n",
    "    # Compute value of i at this time step\n",
    "    i = i_mean * (1 + np.sin((2*np.pi)/0.01*t))\n",
    "\n",
    "    # Compute v\n",
    "    v = v + (dt/tau) * (el - v + r * i)\n",
    "\n",
    "    plt.plot(t, v, \"k.\")\n",
    "\n",
    "plt.show()"
   ]
  },
  {
   "cell_type": "code",
   "execution_count": null,
   "metadata": {},
   "outputs": [],
   "source": []
  },
  {
   "cell_type": "markdown",
   "metadata": {},
   "source": []
  }
 ],
 "metadata": {
  "kernelspec": {
   "display_name": "Python 3.10.7 64-bit",
   "language": "python",
   "name": "python3"
  },
  "language_info": {
   "codemirror_mode": {
    "name": "ipython",
    "version": 3
   },
   "file_extension": ".py",
   "mimetype": "text/x-python",
   "name": "python",
   "nbconvert_exporter": "python",
   "pygments_lexer": "ipython3",
   "version": "3.10.7"
  },
  "orig_nbformat": 4,
  "vscode": {
   "interpreter": {
    "hash": "aee8b7b246df8f9039afb4144a1f6fd8d2ca17a180786b69acc140d282b71a49"
   }
  }
 },
 "nbformat": 4,
 "nbformat_minor": 2
}
